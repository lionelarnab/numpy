{
 "cells": [
  {
   "cell_type": "markdown",
   "id": "a50725ee",
   "metadata": {},
   "source": [
    "# Welcome to Jupyter Notebook"
   ]
  },
  {
   "cell_type": "code",
   "execution_count": 1,
   "id": "06e51f15",
   "metadata": {},
   "outputs": [],
   "source": [
    "# https://medium.datadriveninvestor.com/how-can-i-customize-jupyter-notebook-into-dark-mode-7985ce780f38"
   ]
  },
  {
   "cell_type": "code",
   "execution_count": 2,
   "id": "523ef61f",
   "metadata": {},
   "outputs": [],
   "source": [
    "import numpy as np\n"
   ]
  },
  {
   "cell_type": "code",
   "execution_count": 3,
   "id": "56328ce5",
   "metadata": {},
   "outputs": [],
   "source": [
    "myarray = np.array([1,2,4,5], np.int8)"
   ]
  },
  {
   "cell_type": "code",
   "execution_count": 4,
   "id": "7fcbbf20",
   "metadata": {},
   "outputs": [
    {
     "data": {
      "text/plain": [
       "5"
      ]
     },
     "execution_count": 4,
     "metadata": {},
     "output_type": "execute_result"
    }
   ],
   "source": [
    "myarray[3]"
   ]
  },
  {
   "cell_type": "code",
   "execution_count": 5,
   "id": "b08525f5",
   "metadata": {},
   "outputs": [],
   "source": [
    "myarray_2d = np.array([[2,5,6,78,50]], np.int16)"
   ]
  },
  {
   "cell_type": "code",
   "execution_count": 6,
   "id": "ae4e4e1d",
   "metadata": {},
   "outputs": [
    {
     "data": {
      "text/plain": [
       "array([[ 2,  5,  6, 78, 50]], dtype=int16)"
      ]
     },
     "execution_count": 6,
     "metadata": {},
     "output_type": "execute_result"
    }
   ],
   "source": [
    "myarray_2d"
   ]
  },
  {
   "cell_type": "code",
   "execution_count": 7,
   "id": "df640071",
   "metadata": {},
   "outputs": [
    {
     "data": {
      "text/plain": [
       "5"
      ]
     },
     "execution_count": 7,
     "metadata": {},
     "output_type": "execute_result"
    }
   ],
   "source": [
    "myarray_2d[0,1]"
   ]
  },
  {
   "cell_type": "code",
   "execution_count": 8,
   "id": "5694872c",
   "metadata": {},
   "outputs": [
    {
     "data": {
      "text/plain": [
       "(1, 5)"
      ]
     },
     "execution_count": 8,
     "metadata": {},
     "output_type": "execute_result"
    }
   ],
   "source": [
    "myarray_2d.shape #to know the shape (row,col)"
   ]
  },
  {
   "cell_type": "code",
   "execution_count": 9,
   "id": "dedf1d5e",
   "metadata": {},
   "outputs": [
    {
     "data": {
      "text/plain": [
       "dtype('int16')"
      ]
     },
     "execution_count": 9,
     "metadata": {},
     "output_type": "execute_result"
    }
   ],
   "source": [
    "myarray_2d.dtype #to know the datatype"
   ]
  },
  {
   "cell_type": "markdown",
   "id": "b764ab14",
   "metadata": {},
   "source": [
    "**Array Creation: Conversation from other python structures**"
   ]
  },
  {
   "cell_type": "code",
   "execution_count": 10,
   "id": "76d677db",
   "metadata": {},
   "outputs": [],
   "source": [
    "listarray = np.array([[1,2,4], [6,7,8], [10,11,12]])"
   ]
  },
  {
   "cell_type": "code",
   "execution_count": 11,
   "id": "446da07c",
   "metadata": {},
   "outputs": [
    {
     "data": {
      "text/plain": [
       "array([[ 1,  2,  4],\n",
       "       [ 6,  7,  8],\n",
       "       [10, 11, 12]])"
      ]
     },
     "execution_count": 11,
     "metadata": {},
     "output_type": "execute_result"
    }
   ],
   "source": [
    "listarray"
   ]
  },
  {
   "cell_type": "code",
   "execution_count": 12,
   "id": "5c90aca8",
   "metadata": {},
   "outputs": [
    {
     "data": {
      "text/plain": [
       "9"
      ]
     },
     "execution_count": 12,
     "metadata": {},
     "output_type": "execute_result"
    }
   ],
   "source": [
    "listarray.size"
   ]
  },
  {
   "cell_type": "code",
   "execution_count": 13,
   "id": "026a10d0",
   "metadata": {},
   "outputs": [
    {
     "data": {
      "text/plain": [
       "dtype('int32')"
      ]
     },
     "execution_count": 13,
     "metadata": {},
     "output_type": "execute_result"
    }
   ],
   "source": [
    "listarray.dtype"
   ]
  },
  {
   "cell_type": "code",
   "execution_count": 14,
   "id": "ea0e3fc9",
   "metadata": {},
   "outputs": [
    {
     "data": {
      "text/plain": [
       "(3, 3)"
      ]
     },
     "execution_count": 14,
     "metadata": {},
     "output_type": "execute_result"
    }
   ],
   "source": [
    "listarray.shape"
   ]
  },
  {
   "cell_type": "code",
   "execution_count": 15,
   "id": "6a66683b",
   "metadata": {},
   "outputs": [
    {
     "data": {
      "text/plain": [
       "array({3, 59, 45}, dtype=object)"
      ]
     },
     "execution_count": 15,
     "metadata": {},
     "output_type": "execute_result"
    }
   ],
   "source": [
    "#dtype = object\n",
    "np.array({3,45,59})"
   ]
  },
  {
   "cell_type": "code",
   "execution_count": 16,
   "id": "abe73108",
   "metadata": {},
   "outputs": [],
   "source": [
    "zeros = np.zeros((2,5)) #(row,col)"
   ]
  },
  {
   "cell_type": "code",
   "execution_count": 17,
   "id": "37646d6d",
   "metadata": {},
   "outputs": [
    {
     "data": {
      "text/plain": [
       "array([[0., 0., 0., 0., 0.],\n",
       "       [0., 0., 0., 0., 0.]])"
      ]
     },
     "execution_count": 17,
     "metadata": {},
     "output_type": "execute_result"
    }
   ],
   "source": [
    "zeros"
   ]
  },
  {
   "cell_type": "code",
   "execution_count": 18,
   "id": "e3259147",
   "metadata": {},
   "outputs": [],
   "source": [
    "# create a array using range\n",
    "range_array = np.arange(10)"
   ]
  },
  {
   "cell_type": "code",
   "execution_count": 19,
   "id": "10e36459",
   "metadata": {},
   "outputs": [
    {
     "data": {
      "text/plain": [
       "array([0, 1, 2, 3, 4, 5, 6, 7, 8, 9])"
      ]
     },
     "execution_count": 19,
     "metadata": {},
     "output_type": "execute_result"
    }
   ],
   "source": [
    "range_array"
   ]
  },
  {
   "cell_type": "code",
   "execution_count": 20,
   "id": "90af7ad1",
   "metadata": {},
   "outputs": [],
   "source": [
    "# same linespace array\n",
    "line_space_array = np.linspace(1,10,5) #(start, dest, no. of element with same space)"
   ]
  },
  {
   "cell_type": "code",
   "execution_count": 21,
   "id": "1da5be06",
   "metadata": {},
   "outputs": [
    {
     "data": {
      "text/plain": [
       "array([ 1.  ,  3.25,  5.5 ,  7.75, 10.  ])"
      ]
     },
     "execution_count": 21,
     "metadata": {},
     "output_type": "execute_result"
    }
   ],
   "source": [
    "line_space_array"
   ]
  },
  {
   "cell_type": "code",
   "execution_count": 22,
   "id": "99f0825c",
   "metadata": {},
   "outputs": [],
   "source": [
    "# empty array with random value. We can change the value by assigning\n",
    "emp = np.empty((4,6)) #(row,col)"
   ]
  },
  {
   "cell_type": "code",
   "execution_count": 23,
   "id": "52f69dc9",
   "metadata": {},
   "outputs": [
    {
     "data": {
      "text/plain": [
       "array([[6.23042070e-307, 4.67296746e-307, 1.69121096e-306,\n",
       "        1.33512173e-306, 1.89146896e-307, 7.56571288e-307],\n",
       "       [3.11525958e-307, 1.24610723e-306, 1.37962320e-306,\n",
       "        1.29060871e-306, 2.22518251e-306, 1.33511969e-306],\n",
       "       [1.78022342e-306, 1.05700345e-307, 1.11261027e-306,\n",
       "        1.11261502e-306, 1.42410839e-306, 7.56597770e-307],\n",
       "       [6.23059726e-307, 1.42419530e-306, 1.37962185e-306,\n",
       "        1.37962049e-306, 1.24610723e-306, 1.42410974e-306]])"
      ]
     },
     "execution_count": 23,
     "metadata": {},
     "output_type": "execute_result"
    }
   ],
   "source": [
    "emp"
   ]
  },
  {
   "cell_type": "code",
   "execution_count": 24,
   "id": "b5a46922",
   "metadata": {},
   "outputs": [],
   "source": [
    "emp[0,0] = 3"
   ]
  },
  {
   "cell_type": "code",
   "execution_count": 25,
   "id": "fa54c4cb",
   "metadata": {},
   "outputs": [
    {
     "data": {
      "text/plain": [
       "array([[3.00000000e+000, 4.67296746e-307, 1.69121096e-306,\n",
       "        1.33512173e-306, 1.89146896e-307, 7.56571288e-307],\n",
       "       [3.11525958e-307, 1.24610723e-306, 1.37962320e-306,\n",
       "        1.29060871e-306, 2.22518251e-306, 1.33511969e-306],\n",
       "       [1.78022342e-306, 1.05700345e-307, 1.11261027e-306,\n",
       "        1.11261502e-306, 1.42410839e-306, 7.56597770e-307],\n",
       "       [6.23059726e-307, 1.42419530e-306, 1.37962185e-306,\n",
       "        1.37962049e-306, 1.24610723e-306, 1.42410974e-306]])"
      ]
     },
     "execution_count": 25,
     "metadata": {},
     "output_type": "execute_result"
    }
   ],
   "source": [
    "emp"
   ]
  },
  {
   "cell_type": "code",
   "execution_count": 26,
   "id": "dc4562b8",
   "metadata": {},
   "outputs": [],
   "source": [
    "#copy an array to create a same size array\n",
    "emp_like = np.empty_like(line_space_array)"
   ]
  },
  {
   "cell_type": "code",
   "execution_count": 27,
   "id": "a83cdce8",
   "metadata": {},
   "outputs": [
    {
     "data": {
      "text/plain": [
       "array([ 1.  ,  3.25,  5.5 ,  7.75, 10.  ])"
      ]
     },
     "execution_count": 27,
     "metadata": {},
     "output_type": "execute_result"
    }
   ],
   "source": [
    "emp_like"
   ]
  },
  {
   "cell_type": "code",
   "execution_count": 28,
   "id": "12205e55",
   "metadata": {},
   "outputs": [],
   "source": [
    "emp_like[0] = 5 # changing by assignment operator"
   ]
  },
  {
   "cell_type": "code",
   "execution_count": 29,
   "id": "cb371eab",
   "metadata": {},
   "outputs": [
    {
     "data": {
      "text/plain": [
       "array([ 5.  ,  3.25,  5.5 ,  7.75, 10.  ])"
      ]
     },
     "execution_count": 29,
     "metadata": {},
     "output_type": "execute_result"
    }
   ],
   "source": [
    "emp_like"
   ]
  },
  {
   "cell_type": "code",
   "execution_count": 30,
   "id": "71b55c86",
   "metadata": {},
   "outputs": [],
   "source": [
    "#identity matrics\n",
    "ide_array = np.identity(10) #10x10 matrix"
   ]
  },
  {
   "cell_type": "code",
   "execution_count": 31,
   "id": "b9160c95",
   "metadata": {},
   "outputs": [
    {
     "data": {
      "text/plain": [
       "array([[1., 0., 0., 0., 0., 0., 0., 0., 0., 0.],\n",
       "       [0., 1., 0., 0., 0., 0., 0., 0., 0., 0.],\n",
       "       [0., 0., 1., 0., 0., 0., 0., 0., 0., 0.],\n",
       "       [0., 0., 0., 1., 0., 0., 0., 0., 0., 0.],\n",
       "       [0., 0., 0., 0., 1., 0., 0., 0., 0., 0.],\n",
       "       [0., 0., 0., 0., 0., 1., 0., 0., 0., 0.],\n",
       "       [0., 0., 0., 0., 0., 0., 1., 0., 0., 0.],\n",
       "       [0., 0., 0., 0., 0., 0., 0., 1., 0., 0.],\n",
       "       [0., 0., 0., 0., 0., 0., 0., 0., 1., 0.],\n",
       "       [0., 0., 0., 0., 0., 0., 0., 0., 0., 1.]])"
      ]
     },
     "execution_count": 31,
     "metadata": {},
     "output_type": "execute_result"
    }
   ],
   "source": [
    "ide_array"
   ]
  },
  {
   "cell_type": "code",
   "execution_count": 32,
   "id": "2cea2035",
   "metadata": {},
   "outputs": [
    {
     "data": {
      "text/plain": [
       "(10, 10)"
      ]
     },
     "execution_count": 32,
     "metadata": {},
     "output_type": "execute_result"
    }
   ],
   "source": [
    "ide_array.shape"
   ]
  },
  {
   "cell_type": "code",
   "execution_count": 33,
   "id": "3ac16eca",
   "metadata": {},
   "outputs": [],
   "source": [
    "# how to reshape any array\n",
    "arr_reshape = np.arange(99)"
   ]
  },
  {
   "cell_type": "code",
   "execution_count": 34,
   "id": "1dfb7841",
   "metadata": {},
   "outputs": [
    {
     "data": {
      "text/plain": [
       "array([[ 0,  1,  2,  3,  4,  5,  6,  7,  8,  9, 10, 11, 12, 13, 14, 15,\n",
       "        16, 17, 18, 19, 20, 21, 22, 23, 24, 25, 26, 27, 28, 29, 30, 31,\n",
       "        32],\n",
       "       [33, 34, 35, 36, 37, 38, 39, 40, 41, 42, 43, 44, 45, 46, 47, 48,\n",
       "        49, 50, 51, 52, 53, 54, 55, 56, 57, 58, 59, 60, 61, 62, 63, 64,\n",
       "        65],\n",
       "       [66, 67, 68, 69, 70, 71, 72, 73, 74, 75, 76, 77, 78, 79, 80, 81,\n",
       "        82, 83, 84, 85, 86, 87, 88, 89, 90, 91, 92, 93, 94, 95, 96, 97,\n",
       "        98]])"
      ]
     },
     "execution_count": 34,
     "metadata": {},
     "output_type": "execute_result"
    }
   ],
   "source": [
    "arr_reshape.reshape(3,33) # this is used to reshape any array."
   ]
  },
  {
   "cell_type": "code",
   "execution_count": 35,
   "id": "0ef06ad8",
   "metadata": {},
   "outputs": [],
   "source": [
    "arr_reshape = arr_reshape.ravel()"
   ]
  },
  {
   "cell_type": "code",
   "execution_count": 36,
   "id": "615dbd18",
   "metadata": {},
   "outputs": [
    {
     "data": {
      "text/plain": [
       "(99,)"
      ]
     },
     "execution_count": 36,
     "metadata": {},
     "output_type": "execute_result"
    }
   ],
   "source": [
    "arr_reshape.shape"
   ]
  },
  {
   "cell_type": "code",
   "execution_count": 37,
   "id": "6f6ef519",
   "metadata": {},
   "outputs": [
    {
     "data": {
      "text/plain": [
       "array([ 0,  1,  2,  3,  4,  5,  6,  7,  8,  9, 10, 11, 12, 13, 14, 15, 16,\n",
       "       17, 18, 19, 20, 21, 22, 23, 24, 25, 26, 27, 28, 29, 30, 31, 32, 33,\n",
       "       34, 35, 36, 37, 38, 39, 40, 41, 42, 43, 44, 45, 46, 47, 48, 49, 50,\n",
       "       51, 52, 53, 54, 55, 56, 57, 58, 59, 60, 61, 62, 63, 64, 65, 66, 67,\n",
       "       68, 69, 70, 71, 72, 73, 74, 75, 76, 77, 78, 79, 80, 81, 82, 83, 84,\n",
       "       85, 86, 87, 88, 89, 90, 91, 92, 93, 94, 95, 96, 97, 98])"
      ]
     },
     "execution_count": 37,
     "metadata": {},
     "output_type": "execute_result"
    }
   ],
   "source": [
    "arr_reshape # to back again previous size"
   ]
  },
  {
   "cell_type": "code",
   "execution_count": 38,
   "id": "8e4b0c07",
   "metadata": {},
   "outputs": [],
   "source": [
    "twod_array = [[1,2,3],[4,5,6],[7,8,9]]"
   ]
  },
  {
   "cell_type": "code",
   "execution_count": 39,
   "id": "a1efffeb",
   "metadata": {},
   "outputs": [],
   "source": [
    "twod_array = np.array(twod_array)"
   ]
  },
  {
   "cell_type": "code",
   "execution_count": 40,
   "id": "8d050a85",
   "metadata": {},
   "outputs": [
    {
     "data": {
      "text/plain": [
       "array([[1, 2, 3],\n",
       "       [4, 5, 6],\n",
       "       [7, 8, 9]])"
      ]
     },
     "execution_count": 40,
     "metadata": {},
     "output_type": "execute_result"
    }
   ],
   "source": [
    "twod_array"
   ]
  },
  {
   "cell_type": "code",
   "execution_count": 41,
   "id": "e2ca4e3f",
   "metadata": {},
   "outputs": [
    {
     "data": {
      "text/plain": [
       "array([12, 15, 18])"
      ]
     },
     "execution_count": 41,
     "metadata": {},
     "output_type": "execute_result"
    }
   ],
   "source": [
    "twod_array.sum(axis=0) # axis=0 means it will calculate col wise."
   ]
  },
  {
   "cell_type": "code",
   "execution_count": 42,
   "id": "d3322401",
   "metadata": {},
   "outputs": [
    {
     "data": {
      "text/plain": [
       "array([ 6, 15, 24])"
      ]
     },
     "execution_count": 42,
     "metadata": {},
     "output_type": "execute_result"
    }
   ],
   "source": [
    "twod_array.sum(axis=1) #axis=0 means it will calcualte row wise."
   ]
  },
  {
   "cell_type": "code",
   "execution_count": 43,
   "id": "f643fd68",
   "metadata": {},
   "outputs": [
    {
     "data": {
      "text/plain": [
       "array([[1, 4, 7],\n",
       "       [2, 5, 8],\n",
       "       [3, 6, 9]])"
      ]
     },
     "execution_count": 43,
     "metadata": {},
     "output_type": "execute_result"
    }
   ],
   "source": [
    "twod_array.T # to transpose matrix"
   ]
  },
  {
   "cell_type": "code",
   "execution_count": 44,
   "id": "cbf9bc3c",
   "metadata": {},
   "outputs": [
    {
     "data": {
      "text/plain": [
       "<numpy.flatiter at 0x15f9b616f80>"
      ]
     },
     "execution_count": 44,
     "metadata": {},
     "output_type": "execute_result"
    }
   ],
   "source": [
    "twod_array.flat # it creates an iterator"
   ]
  },
  {
   "cell_type": "code",
   "execution_count": 45,
   "id": "152e7d12",
   "metadata": {},
   "outputs": [
    {
     "name": "stdout",
     "output_type": "stream",
     "text": [
      "1\n",
      "2\n",
      "3\n",
      "4\n",
      "5\n",
      "6\n",
      "7\n",
      "8\n",
      "9\n"
     ]
    }
   ],
   "source": [
    "for i in twod_array.flat:\n",
    "    print(i)"
   ]
  },
  {
   "cell_type": "code",
   "execution_count": 46,
   "id": "b0f55707",
   "metadata": {},
   "outputs": [
    {
     "data": {
      "text/plain": [
       "2"
      ]
     },
     "execution_count": 46,
     "metadata": {},
     "output_type": "execute_result"
    }
   ],
   "source": [
    "twod_array.ndim #dimension"
   ]
  },
  {
   "cell_type": "code",
   "execution_count": 47,
   "id": "aad85f4a",
   "metadata": {},
   "outputs": [],
   "source": [
    "one = np.array([1,4,10,8,9])"
   ]
  },
  {
   "cell_type": "code",
   "execution_count": 48,
   "id": "a4584b72",
   "metadata": {},
   "outputs": [
    {
     "data": {
      "text/plain": [
       "2"
      ]
     },
     "execution_count": 48,
     "metadata": {},
     "output_type": "execute_result"
    }
   ],
   "source": [
    "one.argmax() # return index where maximum element is there"
   ]
  },
  {
   "cell_type": "code",
   "execution_count": 49,
   "id": "29c663af",
   "metadata": {},
   "outputs": [
    {
     "data": {
      "text/plain": [
       "0"
      ]
     },
     "execution_count": 49,
     "metadata": {},
     "output_type": "execute_result"
    }
   ],
   "source": [
    "one.argmin() # return index where minimum element is there"
   ]
  },
  {
   "cell_type": "code",
   "execution_count": 50,
   "id": "11c7bd3f",
   "metadata": {},
   "outputs": [
    {
     "data": {
      "text/plain": [
       "array([0, 1, 3, 4, 2], dtype=int64)"
      ]
     },
     "execution_count": 50,
     "metadata": {},
     "output_type": "execute_result"
    }
   ],
   "source": [
    "one.argsort()"
   ]
  },
  {
   "cell_type": "code",
   "execution_count": 51,
   "id": "78db14f4",
   "metadata": {},
   "outputs": [
    {
     "data": {
      "text/plain": [
       "array([[1, 2, 3],\n",
       "       [4, 5, 6],\n",
       "       [7, 8, 9]])"
      ]
     },
     "execution_count": 51,
     "metadata": {},
     "output_type": "execute_result"
    }
   ],
   "source": [
    "#dealing with 2d array\n",
    "twod_array"
   ]
  },
  {
   "cell_type": "code",
   "execution_count": 52,
   "id": "20b7e0b6",
   "metadata": {},
   "outputs": [
    {
     "data": {
      "text/plain": [
       "8"
      ]
     },
     "execution_count": 52,
     "metadata": {},
     "output_type": "execute_result"
    }
   ],
   "source": [
    "twod_array.argmax() # this will return index after arranging all the elements as a 1d array"
   ]
  },
  {
   "cell_type": "code",
   "execution_count": 53,
   "id": "8f47c1d1",
   "metadata": {},
   "outputs": [
    {
     "data": {
      "text/plain": [
       "0"
      ]
     },
     "execution_count": 53,
     "metadata": {},
     "output_type": "execute_result"
    }
   ],
   "source": [
    "twod_array.argmin()"
   ]
  },
  {
   "cell_type": "code",
   "execution_count": 54,
   "id": "885a4df0",
   "metadata": {},
   "outputs": [
    {
     "data": {
      "text/plain": [
       "array([2, 2, 2], dtype=int64)"
      ]
     },
     "execution_count": 54,
     "metadata": {},
     "output_type": "execute_result"
    }
   ],
   "source": [
    "twod_array.argmax(axis = 0) # this will return maximum element among the col wise (axis = 0)"
   ]
  },
  {
   "cell_type": "code",
   "execution_count": 55,
   "id": "41034f01",
   "metadata": {},
   "outputs": [
    {
     "data": {
      "text/plain": [
       "array([0, 0, 0], dtype=int64)"
      ]
     },
     "execution_count": 55,
     "metadata": {},
     "output_type": "execute_result"
    }
   ],
   "source": [
    "twod_array.argmin(axis = 1) # this will return maximum element among the col wise (axis = 0)"
   ]
  },
  {
   "cell_type": "code",
   "execution_count": 56,
   "id": "7810ba2a",
   "metadata": {},
   "outputs": [
    {
     "data": {
      "text/plain": [
       "array([[0, 0, 0],\n",
       "       [1, 1, 1],\n",
       "       [2, 2, 2]], dtype=int64)"
      ]
     },
     "execution_count": 56,
     "metadata": {},
     "output_type": "execute_result"
    }
   ],
   "source": [
    "twod_array.argsort(axis=0) "
   ]
  },
  {
   "cell_type": "code",
   "execution_count": 57,
   "id": "0b2ac8d2",
   "metadata": {},
   "outputs": [],
   "source": [
    "another = [[15,2,1],[7,17,9],[5,7,12]]"
   ]
  },
  {
   "cell_type": "code",
   "execution_count": 58,
   "id": "2596e7bb",
   "metadata": {},
   "outputs": [],
   "source": [
    "another = np.array(another)"
   ]
  },
  {
   "cell_type": "code",
   "execution_count": 59,
   "id": "842ccfa5",
   "metadata": {},
   "outputs": [
    {
     "data": {
      "text/plain": [
       "array([[15,  2,  1],\n",
       "       [ 7, 17,  9],\n",
       "       [ 5,  7, 12]])"
      ]
     },
     "execution_count": 59,
     "metadata": {},
     "output_type": "execute_result"
    }
   ],
   "source": [
    "another"
   ]
  },
  {
   "cell_type": "code",
   "execution_count": 60,
   "id": "770c1566",
   "metadata": {},
   "outputs": [
    {
     "data": {
      "text/plain": [
       "array([0, 1, 2], dtype=int64)"
      ]
     },
     "execution_count": 60,
     "metadata": {},
     "output_type": "execute_result"
    }
   ],
   "source": [
    "another.argmax(axis=0)"
   ]
  },
  {
   "cell_type": "code",
   "execution_count": 61,
   "id": "7f4941bf",
   "metadata": {},
   "outputs": [
    {
     "data": {
      "text/plain": [
       "array([2, 0, 0], dtype=int64)"
      ]
     },
     "execution_count": 61,
     "metadata": {},
     "output_type": "execute_result"
    }
   ],
   "source": [
    "another.argmin(axis=0)"
   ]
  },
  {
   "cell_type": "code",
   "execution_count": 62,
   "id": "92979b13",
   "metadata": {},
   "outputs": [
    {
     "data": {
      "text/plain": [
       "array([[2, 0, 0],\n",
       "       [1, 2, 1],\n",
       "       [0, 1, 2]], dtype=int64)"
      ]
     },
     "execution_count": 62,
     "metadata": {},
     "output_type": "execute_result"
    }
   ],
   "source": [
    "another.argsort(axis=0)"
   ]
  },
  {
   "cell_type": "code",
   "execution_count": 63,
   "id": "511cd149",
   "metadata": {},
   "outputs": [
    {
     "data": {
      "text/plain": [
       "array([2, 0, 0], dtype=int64)"
      ]
     },
     "execution_count": 63,
     "metadata": {},
     "output_type": "execute_result"
    }
   ],
   "source": [
    "another.argmin(axis=1)"
   ]
  },
  {
   "cell_type": "code",
   "execution_count": 64,
   "id": "f741cb8c",
   "metadata": {},
   "outputs": [
    {
     "data": {
      "text/plain": [
       "array([0, 1, 2], dtype=int64)"
      ]
     },
     "execution_count": 64,
     "metadata": {},
     "output_type": "execute_result"
    }
   ],
   "source": [
    "another.argmax(axis=1)"
   ]
  },
  {
   "cell_type": "code",
   "execution_count": 65,
   "id": "dc4c8406",
   "metadata": {},
   "outputs": [
    {
     "data": {
      "text/plain": [
       "array([[2, 1, 0],\n",
       "       [0, 2, 1],\n",
       "       [0, 1, 2]], dtype=int64)"
      ]
     },
     "execution_count": 65,
     "metadata": {},
     "output_type": "execute_result"
    }
   ],
   "source": [
    "another.argsort(axis=1)"
   ]
  },
  {
   "cell_type": "code",
   "execution_count": 66,
   "id": "b83eb4ea",
   "metadata": {},
   "outputs": [],
   "source": [
    "another1 = np.array([[15,  2,  1],\n",
    "       [ 7, 17,  9],\n",
    "       [ 5,  7, 12]])"
   ]
  },
  {
   "cell_type": "code",
   "execution_count": 67,
   "id": "163e086e",
   "metadata": {},
   "outputs": [
    {
     "data": {
      "text/plain": [
       "array([[15,  2,  1],\n",
       "       [ 7, 17,  9],\n",
       "       [ 5,  7, 12]])"
      ]
     },
     "execution_count": 67,
     "metadata": {},
     "output_type": "execute_result"
    }
   ],
   "source": [
    "another1"
   ]
  },
  {
   "cell_type": "code",
   "execution_count": 68,
   "id": "4eb80461",
   "metadata": {},
   "outputs": [
    {
     "data": {
      "text/plain": [
       "array([[30,  4,  2],\n",
       "       [14, 34, 18],\n",
       "       [10, 14, 24]])"
      ]
     },
     "execution_count": 68,
     "metadata": {},
     "output_type": "execute_result"
    }
   ],
   "source": [
    "another+another1"
   ]
  },
  {
   "cell_type": "code",
   "execution_count": 69,
   "id": "b00d8733",
   "metadata": {},
   "outputs": [
    {
     "data": {
      "text/plain": [
       "array([[225,   4,   1],\n",
       "       [ 49, 289,  81],\n",
       "       [ 25,  49, 144]])"
      ]
     },
     "execution_count": 69,
     "metadata": {},
     "output_type": "execute_result"
    }
   ],
   "source": [
    "another*another1"
   ]
  },
  {
   "cell_type": "code",
   "execution_count": 71,
   "id": "92729eb9",
   "metadata": {},
   "outputs": [
    {
     "data": {
      "text/plain": [
       "array([[3.87298335, 1.41421356, 1.        ],\n",
       "       [2.64575131, 4.12310563, 3.        ],\n",
       "       [2.23606798, 2.64575131, 3.46410162]])"
      ]
     },
     "execution_count": 71,
     "metadata": {},
     "output_type": "execute_result"
    }
   ],
   "source": [
    "np.sqrt(another) # squre root of each element in matrix(array)"
   ]
  },
  {
   "cell_type": "code",
   "execution_count": 72,
   "id": "da3277e7",
   "metadata": {},
   "outputs": [
    {
     "data": {
      "text/plain": [
       "(array([0, 1, 2], dtype=int64), array([0, 1, 2], dtype=int64))"
      ]
     },
     "execution_count": 72,
     "metadata": {},
     "output_type": "execute_result"
    }
   ],
   "source": [
    "np.where(another>10) # it will return a tuple axis wise. first axis 0 and then axis 1"
   ]
  },
  {
   "cell_type": "code",
   "execution_count": 73,
   "id": "24219bf9",
   "metadata": {},
   "outputs": [
    {
     "data": {
      "text/plain": [
       "array([1, 2, 4, 5], dtype=int8)"
      ]
     },
     "execution_count": 73,
     "metadata": {},
     "output_type": "execute_result"
    }
   ],
   "source": [
    "myarray"
   ]
  },
  {
   "cell_type": "code",
   "execution_count": 74,
   "id": "d877cc2c",
   "metadata": {},
   "outputs": [
    {
     "data": {
      "text/plain": [
       "(array([2, 3], dtype=int64),)"
      ]
     },
     "execution_count": 74,
     "metadata": {},
     "output_type": "execute_result"
    }
   ],
   "source": [
    "np.where(myarray>3) # there has only one axis that's why it has printed only one tuple element"
   ]
  },
  {
   "cell_type": "code",
   "execution_count": 75,
   "id": "ba17e546",
   "metadata": {},
   "outputs": [
    {
     "data": {
      "text/plain": [
       "9"
      ]
     },
     "execution_count": 75,
     "metadata": {},
     "output_type": "execute_result"
    }
   ],
   "source": [
    "np.count_nonzero(another)"
   ]
  },
  {
   "cell_type": "code",
   "execution_count": 77,
   "id": "ee41bba7",
   "metadata": {},
   "outputs": [
    {
     "data": {
      "text/plain": [
       "(array([0, 0, 0, 1, 1, 1, 2, 2, 2], dtype=int64),\n",
       " array([0, 1, 2, 0, 1, 2, 0, 1, 2], dtype=int64))"
      ]
     },
     "execution_count": 77,
     "metadata": {},
     "output_type": "execute_result"
    }
   ],
   "source": [
    "np.nonzero(another) # check the 1st line and 2nd line correspondingly"
   ]
  },
  {
   "cell_type": "code",
   "execution_count": 79,
   "id": "8448daa9",
   "metadata": {},
   "outputs": [
    {
     "data": {
      "text/plain": [
       "array([[15,  2,  1],\n",
       "       [ 7, 17,  9],\n",
       "       [ 5,  7, 12]])"
      ]
     },
     "execution_count": 79,
     "metadata": {},
     "output_type": "execute_result"
    }
   ],
   "source": [
    "another"
   ]
  },
  {
   "cell_type": "code",
   "execution_count": 80,
   "id": "e560c20f",
   "metadata": {},
   "outputs": [],
   "source": [
    "another[0,1] = 0"
   ]
  },
  {
   "cell_type": "code",
   "execution_count": 81,
   "id": "c0e658b6",
   "metadata": {},
   "outputs": [
    {
     "data": {
      "text/plain": [
       "(array([0, 0, 1, 1, 1, 2, 2, 2], dtype=int64),\n",
       " array([0, 2, 0, 1, 2, 0, 1, 2], dtype=int64))"
      ]
     },
     "execution_count": 81,
     "metadata": {},
     "output_type": "execute_result"
    }
   ],
   "source": [
    "np.nonzero(another) #[0,1] has been removed"
   ]
  },
  {
   "cell_type": "code",
   "execution_count": 82,
   "id": "913ee729",
   "metadata": {},
   "outputs": [],
   "source": [
    "import sys"
   ]
  },
  {
   "cell_type": "code",
   "execution_count": 83,
   "id": "8bc6f955",
   "metadata": {},
   "outputs": [],
   "source": [
    "py_ar = [2,4,5,6]"
   ]
  },
  {
   "cell_type": "code",
   "execution_count": 84,
   "id": "55ce92b9",
   "metadata": {},
   "outputs": [],
   "source": [
    "num_ar = np.array(py_ar)"
   ]
  },
  {
   "cell_type": "code",
   "execution_count": 85,
   "id": "e963291d",
   "metadata": {},
   "outputs": [
    {
     "data": {
      "text/plain": [
       "112"
      ]
     },
     "execution_count": 85,
     "metadata": {},
     "output_type": "execute_result"
    }
   ],
   "source": [
    "sys.getsizeof(1)*len(py_ar) # to define the size of python array"
   ]
  },
  {
   "cell_type": "code",
   "execution_count": 86,
   "id": "d38f2fae",
   "metadata": {},
   "outputs": [
    {
     "data": {
      "text/plain": [
       "16"
      ]
     },
     "execution_count": 86,
     "metadata": {},
     "output_type": "execute_result"
    }
   ],
   "source": [
    "num_ar.itemsize*num_ar.size # to define the size of numpy array"
   ]
  },
  {
   "cell_type": "code",
   "execution_count": 88,
   "id": "114f80d9",
   "metadata": {},
   "outputs": [
    {
     "data": {
      "text/plain": [
       "[2, 4, 5, 6]"
      ]
     },
     "execution_count": 88,
     "metadata": {},
     "output_type": "execute_result"
    }
   ],
   "source": [
    "num_ar.tolist() # to convert numpy array into python list"
   ]
  },
  {
   "cell_type": "code",
   "execution_count": null,
   "id": "2e513273",
   "metadata": {},
   "outputs": [],
   "source": []
  }
 ],
 "metadata": {
  "kernelspec": {
   "display_name": "Python 3 (ipykernel)",
   "language": "python",
   "name": "python3"
  },
  "language_info": {
   "codemirror_mode": {
    "name": "ipython",
    "version": 3
   },
   "file_extension": ".py",
   "mimetype": "text/x-python",
   "name": "python",
   "nbconvert_exporter": "python",
   "pygments_lexer": "ipython3",
   "version": "3.9.1"
  },
  "vscode": {
   "interpreter": {
    "hash": "40a1ee777faba17dca73b5685df9e73305bb869345a67c7de5ab384a0fb2a8d6"
   }
  }
 },
 "nbformat": 4,
 "nbformat_minor": 5
}
